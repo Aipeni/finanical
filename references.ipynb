{
 "cells": [
  {
   "cell_type": "markdown",
   "id": "cd6193f4",
   "metadata": {},
   "source": [
    "This notebook include findings of similar topics"
   ]
  },
  {
   "cell_type": "markdown",
   "id": "fa67c597",
   "metadata": {},
   "source": [
    "https://www.kaggle.com/code/jvachier/prediction-stock-ml\n",
    "<br>Compare the stock price prediction of 4 models:\n",
    "<br>Linear Regression\n",
    "<br>Decision Tree\n",
    "<br>Random Forest \n",
    "<br>Polyfit\n",
    "<br>Deep Learning\n",
    "\n",
    "<br>Data (Use NYA index and N100 index):\n",
    "<br>https://www.kaggle.com/mattiuzc/stock-exchange-data\n",
    "\n",
    "<br>Procedures:\n",
    "1. extract only the column date and close\n",
    "2. clean na\n",
    "3. test train split by a certain date\n",
    "4. use model = Sequential()\n",
    "model.add(LSTM(200, activation='relu', return_sequences=True, input_shape=(n_steps_in, n_features)))\n",
    "model.add(LSTM(200, activation='relu', return_sequences=True))\n",
    "model.add(LSTM(200, activation='relu'))\n",
    "model.add(Dense(n_steps_out))\n",
    "model.compile(optimizer=Adam(learning_rate=0.0001), loss='mse', metrics=['accuracy'])\n",
    "model.summary()\n",
    "5. check and compare loss and validation loss\n",
    "6. repeat the above steps for 5 models * 2 index"
   ]
  }
 ],
 "metadata": {
  "kernelspec": {
   "display_name": "Python 3 (ipykernel)",
   "language": "python",
   "name": "python3"
  },
  "language_info": {
   "codemirror_mode": {
    "name": "ipython",
    "version": 3
   },
   "file_extension": ".py",
   "mimetype": "text/x-python",
   "name": "python",
   "nbconvert_exporter": "python",
   "pygments_lexer": "ipython3",
   "version": "3.8.12"
  },
  "toc": {
   "base_numbering": 1,
   "nav_menu": {},
   "number_sections": true,
   "sideBar": true,
   "skip_h1_title": false,
   "title_cell": "Table of Contents",
   "title_sidebar": "Contents",
   "toc_cell": false,
   "toc_position": {},
   "toc_section_display": true,
   "toc_window_display": false
  }
 },
 "nbformat": 4,
 "nbformat_minor": 5
}
