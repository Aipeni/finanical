{
 "cells": [
  {
   "cell_type": "code",
   "execution_count": 2,
   "id": "89480712",
   "metadata": {},
   "outputs": [],
   "source": [
    "import pandas as pd\n",
    "df=pd.read_csv(\"datas/us-income-annual.csv\")\n",
    "new_col=\"\"\n",
    "for i in df.columns:\n",
    "    new_col+=i.replace(\"\\\"\",\"\")\n",
    "clean_col=new_col.split(\",\")\n",
    "clean_col\n",
    "df=df[\"Ticker,SimFinId,Currency,\\\"Fiscal Year\\\",\\\"Fiscal Period\\\",\\\"Report Date\\\",\\\"Publish Date\\\",\\\"Restated Date\\\",\\\"Shares (Basic)\\\",\\\"Shares (Diluted)\\\",Revenue,\\\"Cost of Revenue\\\",\\\"Gross Profit\\\",\\\"Operating Expenses\\\",\\\n",
    "\\\"Selling\"].str.split(\",\").apply(pd.Series)\n",
    "df.columns=clean_col\n",
    "df.to_csv(\"datas/us_clean_income_statement\")"
   ]
  },
  {
   "cell_type": "markdown",
   "id": "b37e8a79",
   "metadata": {},
   "source": [
    "6 financial ratios are required\n",
    "\n",
    "<br>1. Working Capital Ratio\n",
    "<br>from balance sheet\n",
    "<br>Total current asset - Current Liability\n",
    "<br>2. Quick Ratio\n",
    "<br>from balance sheet\n",
    "<br>Total Current Assets - Inventory-Prepaid Expenses\n",
    "<br>3. Earnings per Share (EPS)\n",
    "<br>from income statement\n",
    "<br>(Net Income - Preferred Dividends)/Common shares outstanding\n",
    "<br>4. Price-Earnings (P/E) Ratio\n",
    "<br>from income statement\n",
    "<br>(Market value per shares/Earnings per share)\n",
    "<br>5. Debt-Equity Ratio \n",
    "<br>from balances sheet\n",
    "<br>(Debt)/Equity\n",
    "<br>6. Return on Equity (ROE)\n",
    "<br>from income statement\n",
    "<br>net income/shareholders equity\n",
    "\n",
    "So we need\n",
    "# Balance Sheet:\n",
    "Total current asset , Current Liability, Inventory, Prepaid Expenses,Debt,Equity\n",
    "# Income statement:\n",
    "Net Income , Preferred Dividends, Common shares outstanding, Market value per shares,shareholders equity"
   ]
  },
  {
   "cell_type": "code",
   "execution_count": 10,
   "id": "82b1617b",
   "metadata": {},
   "outputs": [],
   "source": [
    "df=pd.read_csv(\"datas/us-balance-annual.csv\")\n",
    "new_col=\"\"\n",
    "for i in df.columns:\n",
    "    new_col+=i.replace(\"\\\"\",\"\")\n",
    "clean_col=new_col.split(\";\")\n",
    "clean_col\n",
    "df=df[df.columns[0]].str.split(\";\").apply(pd.Series)\n",
    "df.columns=clean_col\n",
    "df"
   ]
  }
 ],
 "metadata": {
  "kernelspec": {
   "display_name": "Python 3 (ipykernel)",
   "language": "python",
   "name": "python3"
  },
  "language_info": {
   "codemirror_mode": {
    "name": "ipython",
    "version": 3
   },
   "file_extension": ".py",
   "mimetype": "text/x-python",
   "name": "python",
   "nbconvert_exporter": "python",
   "pygments_lexer": "ipython3",
   "version": "3.8.12"
  },
  "toc": {
   "base_numbering": 1,
   "nav_menu": {},
   "number_sections": true,
   "sideBar": true,
   "skip_h1_title": false,
   "title_cell": "Table of Contents",
   "title_sidebar": "Contents",
   "toc_cell": false,
   "toc_position": {},
   "toc_section_display": true,
   "toc_window_display": false
  }
 },
 "nbformat": 4,
 "nbformat_minor": 5
}
