{
 "cells": [
  {
   "cell_type": "code",
   "execution_count": 3,
   "id": "89480712",
   "metadata": {},
   "outputs": [],
   "source": [
    "import pandas as pd\n",
    "df=pd.read_csv(\"datas/us-income-annual.csv\")\n",
    "new_col=\"\"\n",
    "for i in df.columns:\n",
    "    new_col+=i.replace(\"\\\"\",\"\")\n",
    "clean_col=new_col.split(\",\")\n",
    "clean_col\n",
    "df=df[\"Ticker,SimFinId,Currency,\\\"Fiscal Year\\\",\\\"Fiscal Period\\\",\\\"Report Date\\\",\\\"Publish Date\\\",\\\"Restated Date\\\",\\\"Shares (Basic)\\\",\\\"Shares (Diluted)\\\",Revenue,\\\"Cost of Revenue\\\",\\\"Gross Profit\\\",\\\"Operating Expenses\\\",\\\n",
    "\\\"Selling\"].str.split(\",\").apply(pd.Series)\n",
    "df.columns=clean_col\n",
    "df.to_csv(\"datas/us_clean_income_statement\")"
   ]
  }
 ],
 "metadata": {
  "kernelspec": {
   "display_name": "Python 3 (ipykernel)",
   "language": "python",
   "name": "python3"
  },
  "language_info": {
   "codemirror_mode": {
    "name": "ipython",
    "version": 3
   },
   "file_extension": ".py",
   "mimetype": "text/x-python",
   "name": "python",
   "nbconvert_exporter": "python",
   "pygments_lexer": "ipython3",
   "version": "3.8.12"
  },
  "toc": {
   "base_numbering": 1,
   "nav_menu": {},
   "number_sections": true,
   "sideBar": true,
   "skip_h1_title": false,
   "title_cell": "Table of Contents",
   "title_sidebar": "Contents",
   "toc_cell": false,
   "toc_position": {},
   "toc_section_display": true,
   "toc_window_display": false
  }
 },
 "nbformat": 4,
 "nbformat_minor": 5
}
